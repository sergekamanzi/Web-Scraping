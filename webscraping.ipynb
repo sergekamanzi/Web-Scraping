{
  "nbformat": 4,
  "nbformat_minor": 0,
  "metadata": {
    "colab": {
      "provenance": [],
      "authorship_tag": "ABX9TyM46o2gtMvc5fEEWR6JRPO5",
      "include_colab_link": true
    },
    "kernelspec": {
      "name": "python3",
      "display_name": "Python 3"
    },
    "language_info": {
      "name": "python"
    }
  },
  "cells": [
    {
      "cell_type": "markdown",
      "metadata": {
        "id": "view-in-github",
        "colab_type": "text"
      },
      "source": [
        "<a href=\"https://colab.research.google.com/github/sergekamanzi/Web-Scraping/blob/main/webscraping.ipynb\" target=\"_parent\"><img src=\"https://colab.research.google.com/assets/colab-badge.svg\" alt=\"Open In Colab\"/></a>"
      ]
    },
    {
      "cell_type": "code",
      "execution_count": 13,
      "metadata": {
        "id": "YGm7xu9YT7h5"
      },
      "outputs": [],
      "source": [
        "%%capture\n",
        "# Step 1: Install Required Libraries\n",
        "!pip install requests beautifulsoup4 pandas matplotlib seaborn"
      ]
    },
    {
      "cell_type": "code",
      "source": [
        "# Step 2: Import Required Libraries\n",
        "import requests\n",
        "from bs4 import BeautifulSoup\n",
        "import pandas as pd\n",
        "import matplotlib.pyplot as plt\n",
        "import seaborn as sns\n",
        "import time"
      ],
      "metadata": {
        "id": "btwoGAksU_Jj"
      },
      "execution_count": 14,
      "outputs": []
    },
    {
      "cell_type": "code",
      "source": [
        "# Step 3: Define the Scraper Function\n",
        "def scrape_alibaba_products():\n",
        "    url = \"\"\n",
        "\n",
        "    # Set headers to mimic a browser\n",
        "    headers = {\n",
        "        \"User-Agent\": \"Mozilla/5.0 (Windows NT 10.0; Win64; x64) AppleWebKit/537.36 (KHTML, like Gecko) Chrome/91.0.4472.124 Safari/537.36\"\n",
        "    }\n",
        "\n",
        "    response = requests.get(url, headers=headers)\n",
        "\n",
        "    if response.status_code != 200:\n",
        "        print(\"Failed to retrieve the website. Status Code:\", response.status_code)\n",
        "        return []\n",
        "\n",
        "    soup = BeautifulSoup(response.text, \"html.parser\")\n",
        "\n",
        "    # Find all product containers (Modify selector based on Alibaba's structure)\n",
        "    product_containers = soup.find_all(\"div\", class_=\"item-main\")\n",
        "\n",
        "    product_list = []\n",
        "\n",
        "    for product in product_containers:\n",
        "        try:\n",
        "            name = product.find(\"h2\").text.strip()\n",
        "            price = product.find(\"span\", class_=\"price\").text.strip()\n",
        "            link = product.find(\"a\")[\"href\"]\n",
        "\n",
        "            product_list.append({\n",
        "                \"Product Name\": name,\n",
        "                \"Price\": price,\n",
        "                \"Product Link\": link\n",
        "            })\n",
        "        except AttributeError:\n",
        "            continue  # Skip if any data is missing\n",
        "\n",
        "        time.sleep(1)  # Respect Alibaba's servers\n",
        "\n",
        "    return product_list\n"
      ],
      "metadata": {
        "id": "ihp5ZK3QVEF8"
      },
      "execution_count": 15,
      "outputs": []
    },
    {
      "cell_type": "code",
      "source": [
        "# Step 4: Scrape Data & Store in DataFrame\n",
        "products = scrape_alibaba_products()\n",
        "if products:\n",
        "    df = pd.DataFrame(products)\n",
        "    df.to_csv(\"alibaba_products.csv\", index=False)\n",
        "    print(\"✅ Data scraped and saved successfully!\")\n",
        "else:\n",
        "    print(\"❌ No data scraped.\")\n"
      ],
      "metadata": {
        "colab": {
          "base_uri": "https://localhost:8080/"
        },
        "id": "G3hUh-87VH2h",
        "outputId": "b7c5cbea-e723-4e6f-b885-99b9ba7ee07c"
      },
      "execution_count": 12,
      "outputs": [
        {
          "output_type": "stream",
          "name": "stdout",
          "text": [
            "❌ No data scraped.\n"
          ]
        }
      ]
    },
    {
      "cell_type": "code",
      "source": [
        "# Step 5: Load Data and Clean Price Column\n",
        "df = pd.read_csv(\"alibaba_products.csv\")\n",
        "\n",
        "# Convert Price column to numerical values\n",
        "def clean_price(price):\n",
        "    if isinstance(price, str):\n",
        "        price = price.replace(\"$\", \"\").replace(\",\", \"\").split(\"-\")[0].strip()\n",
        "        return float(price) if price.replace('.', '', 1).isdigit() else None\n",
        "    return None\n",
        "\n",
        "df[\"Cleaned Price\"] = df[\"Price\"].apply(clean_price)\n",
        "df.dropna(subset=[\"Cleaned Price\"], inplace=True)\n"
      ],
      "metadata": {
        "id": "HicABAuxVLzM"
      },
      "execution_count": null,
      "outputs": []
    },
    {
      "cell_type": "code",
      "source": [
        "\n",
        "# Step 6: Data Analysis & Visualization\n",
        "plt.figure(figsize=(12,6))\n",
        "sns.histplot(df[\"Cleaned Price\"], bins=20, kde=True)\n",
        "plt.xlabel(\"Price (in USD)\")\n",
        "plt.ylabel(\"Count of Products\")\n",
        "plt.title(\"Price Distribution of Products on Alibaba\")\n",
        "plt.show()\n"
      ],
      "metadata": {
        "id": "5kqxHop5VNPG"
      },
      "execution_count": null,
      "outputs": []
    },
    {
      "cell_type": "code",
      "source": [
        "# Step 7: Top 10 Most Expensive Products\n",
        "top_10_expensive = df.sort_values(by=\"Cleaned Price\", ascending=False).head(10)\n",
        "plt.figure(figsize=(12,6))\n",
        "sns.barplot(y=top_10_expensive[\"Product Name\"], x=top_10_expensive[\"Cleaned Price\"], palette=\"coolwarm\")\n",
        "plt.xlabel(\"Price (in USD)\")\n",
        "plt.ylabel(\"Product Name\")\n",
        "plt.title(\"Top 10 Most Expensive Products\")\n",
        "plt.show()\n"
      ],
      "metadata": {
        "id": "fkNIPLSeVRaR"
      },
      "execution_count": null,
      "outputs": []
    },
    {
      "cell_type": "code",
      "source": [
        "# Step 8: Display Data Table\n",
        "import ace_tools as tools\n",
        "tools.display_dataframe_to_user(name=\"Alibaba Products Data\", dataframe=df)\n"
      ],
      "metadata": {
        "id": "X2mYfWqrVUDG"
      },
      "execution_count": null,
      "outputs": []
    }
  ]
}